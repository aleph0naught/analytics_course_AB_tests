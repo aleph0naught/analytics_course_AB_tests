{
 "cells": [
  {
   "cell_type": "code",
   "execution_count": 1,
   "metadata": {},
   "outputs": [],
   "source": [
    "import random\n",
    "from scipy.stats import norm, binom, expon, wilcoxon, kstest, mannwhitneyu\n",
    "from statsmodels.stats import weightstats as stests\n",
    "import numpy as np\n",
    "import pandas as pd\n",
    "import statsmodels.api as sm\n",
    "import matplotlib.pyplot as plt"
   ]
  },
  {
   "cell_type": "markdown",
   "metadata": {},
   "source": [
    "Загружаем данные"
   ]
  },
  {
   "cell_type": "code",
   "execution_count": 2,
   "metadata": {},
   "outputs": [],
   "source": [
    "df = pd.read_csv('test2.csv') # данный файл\n",
    "x = df[df['group'] == 'test']['avg_sum']\n",
    "y = df[df['group'] == 'control']['avg_sum']"
   ]
  },
  {
   "cell_type": "markdown",
   "metadata": {},
   "source": [
    "Далее мы хотели бы понять, из какого семейства распределений пришли наши данные, чтобы оттталкиваясь от этого выбрать подходящий тест  \n",
    "В данном случае мы тестируем сумму чека клиентов, так что стоит ожидать, что нормального распределения тут не будет  \n",
    "Чтобы это проверить нарисуем распределения наших данных в виде гистограмм"
   ]
  },
  {
   "cell_type": "code",
   "execution_count": 3,
   "metadata": {},
   "outputs": [
    {
     "data": {
      "image/png": "[encoded data removed]",
      "text/plain": [
       "<Figure size 432x288 with 1 Axes>"
      ]
     },
     "metadata": {
      "needs_background": "light"
     },
     "output_type": "display_data"
    }
   ],
   "source": [
    "plt.hist(x, bins=30, density=True, color='blue', alpha=0.7)\n",
    "plt.hist(y, bins=30, density=True, color='red', alpha=0.7)\n",
    "plt.show()"
   ]
  },
  {
   "cell_type": "markdown",
   "metadata": {},
   "source": [
    "Действительно, распределение тут явно не нормальное    \n",
    "Поэтому стоит использовать тест Манна-Уитни, который не опирается на предположение о нормальности распредения данных  \n",
    "Так как тест нацелен на увеличение суммы чека клиента, то мы выбираем одностороннюю альтернативу"
   ]
  },
  {
   "cell_type": "code",
   "execution_count": 5,
   "metadata": {},
   "outputs": [
    {
     "name": "stdout",
     "output_type": "stream",
     "text": [
      "Z-statistic: 50943.0\n",
      "P-value: 0.0024922812779452318\n"
     ]
    }
   ],
   "source": [
    "res = mannwhitneyu(x, y, alternative='greater')\n",
    "print(\"Z-statistic:\", res[0])\n",
    "print(\"P-value:\", res[1])"
   ]
  },
  {
   "cell_type": "markdown",
   "metadata": {},
   "source": [
    "Видим, что p-value меньше 0.05 и даже 0.01, поэтому мы отклоняем нулевую гипотезу и признаем альтернативную гипотезу о том, что сумма чека клиента статзначимо увеличилась"
   ]
  }
 ],
 "metadata": {
  "kernelspec": {
   "display_name": "Python 3",
   "language": "python",
   "name": "python3"
  },
  "language_info": {
   "codemirror_mode": {
    "name": "ipython",
    "version": 3
   },
   "file_extension": ".py",
   "mimetype": "text/x-python",
   "name": "python",
   "nbconvert_exporter": "python",
   "pygments_lexer": "ipython3",
   "version": "3.9.0"
  }
 },
 "nbformat": 4,
 "nbformat_minor": 4
}
