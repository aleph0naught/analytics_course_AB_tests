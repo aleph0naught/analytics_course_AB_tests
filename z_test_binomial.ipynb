{
 "cells": [
  {
   "cell_type": "code",
   "execution_count": 1,
   "metadata": {},
   "outputs": [],
   "source": [
    "import random\n",
    "from scipy.stats import norm, binom, expon, wilcoxon, kstest, mannwhitneyu\n",
    "from statsmodels.stats.proportion import proportions_ztest\n",
    "from statsmodels.stats import weightstats as stests\n",
    "import numpy as np\n",
    "import pandas as pd\n",
    "import statsmodels.api as sm\n",
    "import matplotlib.pyplot as plt"
   ]
  },
  {
   "cell_type": "markdown",
   "metadata": {},
   "source": [
    "Загружаем данные"
   ]
  },
  {
   "cell_type": "code",
   "execution_count": 2,
   "metadata": {},
   "outputs": [],
   "source": [
    "df = pd.read_csv('test3.csv') # данный файл\n",
    "x = df[df['group'] == 'test']['click_flg']\n",
    "y = df[df['group'] == 'control']['click_flg']"
   ]
  },
  {
   "cell_type": "markdown",
   "metadata": {},
   "source": [
    "Тестируем конверсию в переход на сайт, значит нам нужно воспользоваться z-тестом для двух долей"
   ]
  },
  {
   "cell_type": "code",
   "execution_count": 3,
   "metadata": {},
   "outputs": [
    {
     "data": {
      "image/png": "[encoded data removed]",
      "text/plain": [
       "<Figure size 432x288 with 1 Axes>"
      ]
     },
     "metadata": {
      "needs_background": "light"
     },
     "output_type": "display_data"
    }
   ],
   "source": [
    "plt.hist(x, bins=30, density=True, color='blue', alpha=0.5)\n",
    "plt.hist(y, bins=30, density=True, color='red', alpha=0.5)\n",
    "plt.show()"
   ]
  },
  {
   "cell_type": "markdown",
   "metadata": {},
   "source": [
    "Пользуемся функцией proportions_ztest, считаем статистику и соответствующий p-value  \n"
   ]
  },
  {
   "cell_type": "code",
   "execution_count": 4,
   "metadata": {},
   "outputs": [
    {
     "name": "stdout",
     "output_type": "stream",
     "text": [
      "test statistic:  -2.595183244634136\n",
      "p-value:  0.009454050012441642\n"
     ]
    }
   ],
   "source": [
    "stat, pvalue = proportions_ztest([sum(x), sum(y)],  [len(x), len(y)]) \n",
    "print(\"test statistic: \", stat)\n",
    "print(\"p-value: \", pvalue)"
   ]
  },
  {
   "cell_type": "markdown",
   "metadata": {},
   "source": [
    "Как мы видим изменения статзначимо повлияли на конверсию  \n",
    "Тогда посчитаем выборочную конверсию на тесте и на контроле"
   ]
  },
  {
   "cell_type": "code",
   "execution_count": 5,
   "metadata": {},
   "outputs": [
    {
     "name": "stdout",
     "output_type": "stream",
     "text": [
      "Test:  0.2955203033024045\n",
      "Control:  0.31238761238761237\n"
     ]
    }
   ],
   "source": [
    "print(\"Test: \", sum(x) / len(x))\n",
    "print(\"Control: \", sum(y) / len(y))"
   ]
  },
  {
   "cell_type": "markdown",
   "metadata": {},
   "source": [
    "На тесте конверсия уменьшилась, причем статзначимо  "
   ]
  }
 ],
 "metadata": {
  "kernelspec": {
   "display_name": "Python 3",
   "language": "python",
   "name": "python3"
  },
  "language_info": {
   "codemirror_mode": {
    "name": "ipython",
    "version": 3
   },
   "file_extension": ".py",
   "mimetype": "text/x-python",
   "name": "python",
   "nbconvert_exporter": "python",
   "pygments_lexer": "ipython3",
   "version": "3.9.0"
  }
 },
 "nbformat": 4,
 "nbformat_minor": 4
}
