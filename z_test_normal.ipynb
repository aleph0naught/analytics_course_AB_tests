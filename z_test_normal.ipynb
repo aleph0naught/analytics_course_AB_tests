{
 "cells": [
  {
   "cell_type": "code",
   "execution_count": 1,
   "metadata": {},
   "outputs": [],
   "source": [
    "import random\n",
    "from scipy.stats import norm, binom, expon, wilcoxon, kstest, mannwhitneyu\n",
    "from statsmodels.stats import weightstats as stests\n",
    "import numpy as np\n",
    "import pandas as pd\n",
    "import statsmodels.api as sm\n",
    "import matplotlib.pyplot as plt"
   ]
  },
  {
   "cell_type": "markdown",
   "metadata": {},
   "source": [
    "Загружаем данные"
   ]
  },
  {
   "cell_type": "code",
   "execution_count": 2,
   "metadata": {},
   "outputs": [],
   "source": [
    "df = pd.read_csv('test1.csv') # данный файл\n",
    "x = df[df['group'] == 'test']['target']\n",
    "y = df[df['group'] == 'control']['target']"
   ]
  },
  {
   "cell_type": "markdown",
   "metadata": {},
   "source": [
    "Далее мы хотели бы понять, из какого семейства распределений пришла наша метрика  \n",
    "Для этого сначала нарисуем распределения наших данных в виде гистограмм"
   ]
  },
  {
   "cell_type": "code",
   "execution_count": 3,
   "metadata": {},
   "outputs": [
    {
     "data": {
      "image/png": "[encoded data removed]",
      "text/plain": [
       "<Figure size 432x288 with 1 Axes>"
      ]
     },
     "metadata": {
      "needs_background": "light"
     },
     "output_type": "display_data"
    }
   ],
   "source": [
    "plt.hist(x, bins=30, density=True, color='blue', alpha=0.7)\n",
    "plt.hist(y, bins=30, density=True, color='red', alpha=0.7)\n",
    "plt.show()"
   ]
  },
  {
   "cell_type": "markdown",
   "metadata": {},
   "source": [
    "Заметим, что распределение очень похоже на нормальное  \n",
    "Тогда дополнительно проверим данные на нормальность с помощью теста Колмогорова-Смирнова  \n",
    "Перед этим сдвинем наши данные на значение среднего и отнормируем на значение стандартного отклонения (так как kstest работает по умолчанию для стандартного нормального распределения)"
   ]
  },
  {
   "cell_type": "code",
   "execution_count": 4,
   "metadata": {},
   "outputs": [
    {
     "data": {
      "text/plain": [
       "KstestResult(statistic=0.019688897489890667, pvalue=0.8209656898620732)"
      ]
     },
     "execution_count": 4,
     "metadata": {},
     "output_type": "execute_result"
    }
   ],
   "source": [
    "kstest((x - x.mean()) / x.std(), \"norm\")"
   ]
  },
  {
   "cell_type": "code",
   "execution_count": 5,
   "metadata": {},
   "outputs": [
    {
     "data": {
      "text/plain": [
       "KstestResult(statistic=0.014810944996272113, pvalue=0.979671010716616)"
      ]
     },
     "execution_count": 5,
     "metadata": {},
     "output_type": "execute_result"
    }
   ],
   "source": [
    "kstest((y - y.mean()) / y.std(), \"norm\")"
   ]
  },
  {
   "cell_type": "markdown",
   "metadata": {},
   "source": [
    "Значение p-value очень большое, так что отвергнуть нормальность мы не можем  \n",
    "Поэтому будем использовать двухвыборочный Z-test    \n",
    "Устанавливаем двусторонний тест, количество степеней свободы равное 1 и тестируемое значение равное 0, так как мы проверяем гипотезу о равенстве средних\n"
   ]
  },
  {
   "cell_type": "code",
   "execution_count": 6,
   "metadata": {},
   "outputs": [
    {
     "name": "stdout",
     "output_type": "stream",
     "text": [
      "Z-statistic: -9.878332719470977\n",
      "P-value: 5.168568157700621e-23\n"
     ]
    }
   ],
   "source": [
    "res = stests.ztest(x, y, alternative='two-sided', value=0, ddof=1.0)\n",
    "print(\"Z-statistic:\", res[0])\n",
    "print(\"P-value:\", res[1])"
   ]
  },
  {
   "cell_type": "markdown",
   "metadata": {},
   "source": [
    "Видим, что p-value очень маленький и уж точно меньше 0.05, поэтому мы отклоняем нулевую гипотезу о равенстве средних, а значит наши изменения статзначимы "
   ]
  }
 ],
 "metadata": {
  "kernelspec": {
   "display_name": "Python 3",
   "language": "python",
   "name": "python3"
  },
  "language_info": {
   "codemirror_mode": {
    "name": "ipython",
    "version": 3
   },
   "file_extension": ".py",
   "mimetype": "text/x-python",
   "name": "python",
   "nbconvert_exporter": "python",
   "pygments_lexer": "ipython3",
   "version": "3.9.0"
  }
 },
 "nbformat": 4,
 "nbformat_minor": 4
}
